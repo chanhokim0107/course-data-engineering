{
 "cells": [
  {
   "cell_type": "code",
   "execution_count": 17,
   "metadata": {},
   "outputs": [
    {
     "name": "stdout",
     "output_type": "stream",
     "text": [
      "Hello world\n",
      "100\n",
      "3.14\n",
      "My name is chanho\n"
     ]
    },
    {
     "data": {
      "text/plain": [
       "'시프트 엔터는 현재셀 작동후 새로운 셀 열기'"
      ]
     },
     "execution_count": 17,
     "metadata": {},
     "output_type": "execute_result"
    }
   ],
   "source": [
    "print(\"Hello world\")\n",
    "\n",
    "print(100)\n",
    "pi=3.14\n",
    "print(pi)\n",
    "\n",
    "intro=\"My name is \"\n",
    "name=\"chanho\"\n",
    "print(intro+name)\n",
    "\n",
    "\"\"\"주석 처리하는 방법\"\"\"\n",
    "\"\"\"컨트롤 엔터는 현재셀 작동\"\"\"\n",
    "\"\"\"시프트 엔터는 현재셀 작동후 새로운 셀 열기\"\"\"\n"
   ]
  },
  {
   "cell_type": "code",
   "execution_count": 18,
   "metadata": {},
   "outputs": [],
   "source": [
    "\"\"\"변수\"\"\"\n",
    "\n",
    "user_name=\"kim chan ho\"\n",
    "user_id=201855049\n",
    "is_student=True"
   ]
  },
  {
   "cell_type": "code",
   "execution_count": 20,
   "metadata": {},
   "outputs": [],
   "source": [
    "\"\"\"\n",
    "Data types : Integers\n",
    "\"\"\"\n",
    "\n",
    "room=4\n",
    "chairs=8\n",
    "table=3\n",
    "computer=0\n",
    "broken_chairs=-2"
   ]
  },
  {
   "cell_type": "code",
   "execution_count": 21,
   "metadata": {},
   "outputs": [],
   "source": [
    "\"\"\"\n",
    "Data types:Real numbers\n",
    "\"\"\"\n",
    "\n",
    "PI=3.14\n",
    "krw_usd_exchange=1125.41"
   ]
  },
  {
   "cell_type": "code",
   "execution_count": 22,
   "metadata": {},
   "outputs": [],
   "source": [
    "\"\"\"\n",
    "Data types:Strings\n",
    "\"\"\"\n",
    "\n",
    "favorite_color=\"green and yellow\"\n",
    "favorite_fruit=\"watermelon\"\n",
    "favorite_game=\"LoL\""
   ]
  },
  {
   "cell_type": "code",
   "execution_count": 23,
   "metadata": {},
   "outputs": [
    {
     "name": "stdout",
     "output_type": "stream",
     "text": [
      "8\n"
     ]
    }
   ],
   "source": [
    "\"\"\"\n",
    "x-Equals Operations\n",
    "\"\"\"\n",
    "\n",
    "a=2\n",
    "a**=3\n",
    "print(a)"
   ]
  },
  {
   "cell_type": "code",
   "execution_count": null,
   "metadata": {},
   "outputs": [],
   "source": []
  }
 ],
 "metadata": {
  "kernelspec": {
   "display_name": "Python 3",
   "language": "python",
   "name": "python3"
  },
  "language_info": {
   "codemirror_mode": {
    "name": "ipython",
    "version": 3
   },
   "file_extension": ".py",
   "mimetype": "text/x-python",
   "name": "python",
   "nbconvert_exporter": "python",
   "pygments_lexer": "ipython3",
   "version": "3.8.5"
  }
 },
 "nbformat": 4,
 "nbformat_minor": 4
}
