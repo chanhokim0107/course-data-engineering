{
 "cells": [
  {
   "cell_type": "code",
   "execution_count": 6,
   "metadata": {},
   "outputs": [
    {
     "name": "stdout",
     "output_type": "stream",
     "text": [
      "4\n"
     ]
    },
    {
     "data": {
      "text/plain": [
       "2"
      ]
     },
     "execution_count": 6,
     "metadata": {},
     "output_type": "execute_result"
    }
   ],
   "source": [
    "\"\"\"\n",
    "Functions vs Method\n",
    "\"\"\"\n",
    "\n",
    "def my_function(x):\n",
    "    return x+1\n",
    "\n",
    "y=3\n",
    "result = my_function(y)\n",
    "print(result)\n",
    "\n",
    "x=1\n",
    "\n",
    "class my_class:\n",
    "    def my_method(self):\n",
    "        return x+1\n",
    "    \n",
    "    \n",
    "cls = my_class()\n",
    "cls.my_method()"
   ]
  },
  {
   "cell_type": "code",
   "execution_count": 7,
   "metadata": {},
   "outputs": [
    {
     "name": "stdout",
     "output_type": "stream",
     "text": [
      "Hello everyone, My name is Chan Ho, I was born in 2000, an I live in Suwon.\n"
     ]
    }
   ],
   "source": [
    "\"\"\"\n",
    "Function Parameters\n",
    "\"\"\"\n",
    "\n",
    "def introduce_myself(name, birthyear, city):\n",
    "    print(\"Hello everyone, My name is %s, I was born in %d, an I live in %s.\"\\\n",
    "          %(name, birthyear, city))\n",
    "    \n",
    "introduce_myself(\"Chan Ho\", 2000, \"Suwon\")"
   ]
  },
  {
   "cell_type": "code",
   "execution_count": 8,
   "metadata": {},
   "outputs": [
    {
     "data": {
      "text/plain": [
       "'2020 is a leap year.'"
      ]
     },
     "execution_count": 8,
     "metadata": {},
     "output_type": "execute_result"
    }
   ],
   "source": [
    "\"\"\"\n",
    "Return Keyword\n",
    "\"\"\"\n",
    "\n",
    "def check_leap_year(year):\n",
    "    if year%4 == 0:\n",
    "        return \"%s is a leap year.\" %(year)\n",
    "    else:\n",
    "        return \"%s is not a leap year.\"%(year)\n",
    "    \n",
    "check_leap_year(2020)"
   ]
  },
  {
   "cell_type": "code",
   "execution_count": 9,
   "metadata": {},
   "outputs": [
    {
     "name": "stdout",
     "output_type": "stream",
     "text": [
      "9 16 25\n"
     ]
    }
   ],
   "source": [
    "\"\"\"\n",
    "Returning Multiple Values\n",
    "\"\"\"\n",
    "\n",
    "def square_point(x, y, z):\n",
    "    x_squared = x **2\n",
    "    y_squared = y **2\n",
    "    z_squared = z **2\n",
    "    return x_squared, y_squared, z_squared\n",
    "\n",
    "three_squared, four_squared, five_squared = square_point(3, 4, 5)\n",
    "\n",
    "print(three_squared, four_squared, five_squared,)"
   ]
  },
  {
   "cell_type": "code",
   "execution_count": 21,
   "metadata": {},
   "outputs": [
    {
     "name": "stdout",
     "output_type": "stream",
     "text": [
      "Hello\n",
      "Hello\n"
     ]
    }
   ],
   "source": [
    "\"\"\"\n",
    "Global Variables\n",
    "\"\"\"\n",
    "\n",
    "a = \"Hello\"\n",
    "\n",
    "def print_a():\n",
    "    print(a)\n",
    "    \n",
    "print(a)\n",
    "print_a()"
   ]
  },
  {
   "cell_type": "code",
   "execution_count": 17,
   "metadata": {},
   "outputs": [
    {
     "name": "stdout",
     "output_type": "stream",
     "text": [
      "3\n"
     ]
    }
   ],
   "source": [
    "\"\"\"\n",
    "Local Variables\n",
    "\"\"\"\n",
    "\n",
    "b=2\n",
    "\n",
    "def f1():\n",
    "    b=3\n",
    "    print(b)\n",
    "    \n",
    "f1()"
   ]
  },
  {
   "cell_type": "code",
   "execution_count": 20,
   "metadata": {},
   "outputs": [
    {
     "name": "stdout",
     "output_type": "stream",
     "text": [
      "Height = 2\n",
      "Width = 1\n",
      "Depth = 3\n",
      "6\n"
     ]
    }
   ],
   "source": [
    "\"\"\"\n",
    "Keyword Arguments and Default Values\n",
    "\"\"\"\n",
    "\n",
    "def findvolume(height, width, depth):\n",
    "    print(\"Height = %s\"%(height))\n",
    "    print(\"Width = %s\"%(width))\n",
    "    print(\"Depth = %s\"%(depth))\n",
    "    return height*width*depth\n",
    "\n",
    "print(findvolume(2, 1, 3))\n",
    "    "
   ]
  },
  {
   "cell_type": "code",
   "execution_count": null,
   "metadata": {},
   "outputs": [],
   "source": []
  }
 ],
 "metadata": {
  "kernelspec": {
   "display_name": "Python 3",
   "language": "python",
   "name": "python3"
  },
  "language_info": {
   "codemirror_mode": {
    "name": "ipython",
    "version": 3
   },
   "file_extension": ".py",
   "mimetype": "text/x-python",
   "name": "python",
   "nbconvert_exporter": "python",
   "pygments_lexer": "ipython3",
   "version": "3.8.5"
  }
 },
 "nbformat": 4,
 "nbformat_minor": 4
}
