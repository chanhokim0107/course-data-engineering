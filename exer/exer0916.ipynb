{
 "cells": [
  {
   "cell_type": "code",
   "execution_count": 2,
   "metadata": {},
   "outputs": [
    {
     "name": "stdout",
     "output_type": "stream",
     "text": [
      "<class 'bool'>\n",
      "<class 'str'>\n"
     ]
    }
   ],
   "source": [
    "\"\"\"\n",
    "boolean variables\n",
    "\"\"\"\n",
    "\n",
    "is_tested = False\n",
    "print(type(is_tested))\n",
    "\n",
    "a=\"3.14\"\n",
    "print(type(a))"
   ]
  },
  {
   "cell_type": "code",
   "execution_count": 4,
   "metadata": {},
   "outputs": [
    {
     "name": "stdout",
     "output_type": "stream",
     "text": [
      "True\n"
     ]
    }
   ],
   "source": [
    "print(\"yes\" == 'yes')"
   ]
  },
  {
   "cell_type": "code",
   "execution_count": 5,
   "metadata": {},
   "outputs": [
    {
     "name": "stdout",
     "output_type": "stream",
     "text": [
      "True\n"
     ]
    }
   ],
   "source": [
    "print((2>1)==(5<10))"
   ]
  },
  {
   "cell_type": "code",
   "execution_count": 6,
   "metadata": {},
   "outputs": [
    {
     "name": "stdout",
     "output_type": "stream",
     "text": [
      "False\n"
     ]
    }
   ],
   "source": [
    "c='2'\n",
    "d=2\n",
    "print(c==d)"
   ]
  },
  {
   "cell_type": "code",
   "execution_count": 11,
   "metadata": {},
   "outputs": [
    {
     "data": {
      "text/plain": [
       "True"
      ]
     },
     "execution_count": 11,
     "metadata": {},
     "output_type": "execute_result"
    }
   ],
   "source": [
    "True or True\n",
    "True or False\n",
    "False or False\n",
    "1 <2 or 3< 1\n",
    "3<1 or 1> 6\n",
    "1 == 1 or 1 < 2"
   ]
  },
  {
   "cell_type": "code",
   "execution_count": 13,
   "metadata": {},
   "outputs": [
    {
     "name": "stdout",
     "output_type": "stream",
     "text": [
      "False\n"
     ]
    }
   ],
   "source": [
    "\"\"\"\n",
    "conditinal statements (if/elif/else)\n",
    "\"\"\"\n",
    "\n",
    "puppy = \"malepoo\"\n",
    "is_yes = False\n",
    "\n",
    "if puppy ==\"maltese\":\n",
    "    print(\"말티즈.\")\n",
    "    is_yes = True\n",
    "    \n",
    "elif puppy == \"poodle\":\n",
    "    print(\"푸들.\")\n",
    "    is_yes = True\n",
    "    \n",
    "elif puppy == 'shitzu':\n",
    "    print(\"시츄.\")\n",
    "    is_yes = True\n",
    "    \n",
    "print(is_yes)"
   ]
  },
  {
   "cell_type": "code",
   "execution_count": 14,
   "metadata": {},
   "outputs": [
    {
     "name": "stdout",
     "output_type": "stream",
     "text": [
      "[Error]\n",
      "continue\n"
     ]
    }
   ],
   "source": [
    "\"\"\"\n",
    "Exception Handing\n",
    "\"\"\"\n",
    "\n",
    "x = 1\n",
    "\n",
    "try:\n",
    "    print(y)\n",
    "    print(x)\n",
    "\n",
    "except:\n",
    "    print('[Error]')\n",
    "print('continue')"
   ]
  },
  {
   "cell_type": "code",
   "execution_count": null,
   "metadata": {},
   "outputs": [],
   "source": []
  }
 ],
 "metadata": {
  "kernelspec": {
   "display_name": "Python 3",
   "language": "python",
   "name": "python3"
  },
  "language_info": {
   "codemirror_mode": {
    "name": "ipython",
    "version": 3
   },
   "file_extension": ".py",
   "mimetype": "text/x-python",
   "name": "python",
   "nbconvert_exporter": "python",
   "pygments_lexer": "ipython3",
   "version": "3.8.5"
  }
 },
 "nbformat": 4,
 "nbformat_minor": 4
}
