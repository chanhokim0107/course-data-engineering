{
 "cells": [
  {
   "cell_type": "code",
   "execution_count": 10,
   "metadata": {},
   "outputs": [
    {
     "name": "stdout",
     "output_type": "stream",
     "text": [
      "Average price is 31.875\n",
      "[25, 20, 35, 15, 15, 30, 45, 30]\n",
      "1085\n",
      "Average daily revenue is 155.0\n",
      "['bouffant', 'pixie', 'crew', 'bowl']\n"
     ]
    }
   ],
   "source": [
    "hairstyles = [\"bouffant\", \"pixie\", \"dreadlocks\", \"crew\", \"bowl\", \"bob\", \"mohawk\", \"flattop\"]\n",
    "prices = [30, 25, 40, 20, 20, 35, 50, 35]\n",
    "last_week = [2, 3, 5, 8, 4, 4, 6, 2]\n",
    "\n",
    "#1\n",
    "total_price = 0\n",
    "\n",
    "#2\n",
    "for a in prices:\n",
    "    total_price = total_price + a\n",
    "\n",
    "#3\n",
    "average_price = total_price / len(prices)\n",
    "\n",
    "#4\n",
    "print(\"Average price is \" + str(average_price))\n",
    "\n",
    "#5\n",
    "new_prices = [a -5 for a in  prices]\n",
    "\n",
    "#6\n",
    "print(new_prices)\n",
    "\n",
    "#7\n",
    "total_revenue = 0\n",
    "\n",
    "#8, 9\n",
    "for i in range(0, len(hairstyles)):\n",
    "    total_revenue = total_revenue + (prices[i]*last_week[i])\n",
    "\n",
    "#10\n",
    "print(total_revenue)\n",
    "\n",
    "#11\n",
    "average_daily_revenue = total_revenue / 7\n",
    "print(\"Average daily revenue is \" + str(average_daily_revenue))\n",
    "\n",
    "#12\n",
    "cuts_under_30 = [hairstyles[i] for i in range(0, len(new_prices)-1) if new_prices[i] < 30]\n",
    "\n",
    "#13\n",
    "print(cuts_under_30)\n",
    "\n"
   ]
  },
  {
   "cell_type": "code",
   "execution_count": null,
   "metadata": {},
   "outputs": [],
   "source": []
  },
  {
   "cell_type": "code",
   "execution_count": null,
   "metadata": {},
   "outputs": [],
   "source": []
  }
 ],
 "metadata": {
  "kernelspec": {
   "display_name": "Python 3",
   "language": "python",
   "name": "python3"
  },
  "language_info": {
   "codemirror_mode": {
    "name": "ipython",
    "version": 3
   },
   "file_extension": ".py",
   "mimetype": "text/x-python",
   "name": "python",
   "nbconvert_exporter": "python",
   "pygments_lexer": "ipython3",
   "version": "3.8.5"
  }
 },
 "nbformat": 4,
 "nbformat_minor": 4
}
