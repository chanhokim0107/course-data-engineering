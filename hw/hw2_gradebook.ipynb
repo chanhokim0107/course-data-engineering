{
 "cells": [
  {
   "cell_type": "code",
   "execution_count": 19,
   "metadata": {},
   "outputs": [
    {
     "name": "stdout",
     "output_type": "stream",
     "text": [
      "[['physics', 98], ['calculus', 97], ['poetry', 85], ['history', 88]]\n",
      "[['physics', 98], ['calculus', 97], ['poetry', 85], ['history', 88], ['computer science', 100], ['visual arts', 93]]\n",
      "[['physics', 98], ['calculus', 97], ['poetry', 'Pass'], ['history', 88], ['computer science', 100], ['visual arts', 98]]\n",
      "[['politics', 80], ['latin', 96], ['dance', 97], ['architecture', 65], ['physics', 98], ['calculus', 97], ['poetry', 'Pass'], ['history', 88], ['computer science', 100], ['visual arts', 98]]\n"
     ]
    }
   ],
   "source": [
    "# 1\n",
    "subjects = [\"physics\", \"calculus\", \"poetry\", \"history\"]\n",
    "\n",
    "# 2\n",
    "grades = [98, 97, 85, 88]\n",
    "\n",
    "# 3\n",
    "gradebook=[['physics', 98],['calculus', 97],['poetry', 85],['history', 88]]\n",
    "\n",
    "# 4\n",
    "print(gradebook)\n",
    "\n",
    "# 5 append()\n",
    "gradebook.append(['computer science', 100])\n",
    "\n",
    "# 6\n",
    "gradebook.append(['visual arts', 93])\n",
    "print(gradebook)\n",
    "\n",
    "# 7\n",
    "gradebook[5][1] = 98\n",
    "\n",
    "# 8\n",
    "gradebook[2].remove(85)\n",
    "\n",
    "# 9 \n",
    "gradebook[2].append('Pass')\n",
    "print(gradebook)\n",
    "\n",
    "# 10\n",
    "last_semester_gradebook = [['politics', 80], ['latin', 96], ['dance', 97], ['architecture', 65]]\n",
    "full_gradebook = last_semester_gradebook + gradebook\n",
    "print(full_gradebook)\n"
   ]
  },
  {
   "cell_type": "code",
   "execution_count": null,
   "metadata": {},
   "outputs": [],
   "source": []
  }
 ],
 "metadata": {
  "kernelspec": {
   "display_name": "Python 3",
   "language": "python",
   "name": "python3"
  },
  "language_info": {
   "codemirror_mode": {
    "name": "ipython",
    "version": 3
   },
   "file_extension": ".py",
   "mimetype": "text/x-python",
   "name": "python",
   "nbconvert_exporter": "python",
   "pygments_lexer": "ipython3",
   "version": "3.8.5"
  }
 },
 "nbformat": 4,
 "nbformat_minor": 4
}
